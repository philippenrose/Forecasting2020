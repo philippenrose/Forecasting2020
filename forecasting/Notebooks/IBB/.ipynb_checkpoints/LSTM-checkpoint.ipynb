{
 "cells": [
  {
   "cell_type": "code",
   "execution_count": 1,
   "metadata": {},
   "outputs": [
    {
     "name": "stderr",
     "output_type": "stream",
     "text": [
      "Using TensorFlow backend.\n"
     ]
    }
   ],
   "source": [
    "import math\n",
    "import pandas_datareader as web\n",
    "import numpy as np\n",
    "import pandas as pd\n",
    "from sklearn.preprocessing import MinMaxScaler\n",
    "from keras.models import Sequential\n",
    "from keras.layers import Dense, LSTM\n",
    "import matplotlib.pyplot as plt\n",
    "plt.style.use('fivethirtyeight')"
   ]
  },
  {
   "cell_type": "code",
   "execution_count": 2,
   "metadata": {},
   "outputs": [
    {
     "data": {
      "text/html": [
       "<div>\n",
       "<style scoped>\n",
       "    .dataframe tbody tr th:only-of-type {\n",
       "        vertical-align: middle;\n",
       "    }\n",
       "\n",
       "    .dataframe tbody tr th {\n",
       "        vertical-align: top;\n",
       "    }\n",
       "\n",
       "    .dataframe thead th {\n",
       "        text-align: right;\n",
       "    }\n",
       "</style>\n",
       "<table border=\"1\" class=\"dataframe\">\n",
       "  <thead>\n",
       "    <tr style=\"text-align: right;\">\n",
       "      <th></th>\n",
       "      <th>date</th>\n",
       "      <th>open</th>\n",
       "      <th>high</th>\n",
       "      <th>low</th>\n",
       "      <th>close</th>\n",
       "      <th>volume</th>\n",
       "      <th>ticker</th>\n",
       "    </tr>\n",
       "  </thead>\n",
       "  <tbody>\n",
       "    <tr>\n",
       "      <td>0</td>\n",
       "      <td>2015-01-05</td>\n",
       "      <td>204.17</td>\n",
       "      <td>204.37</td>\n",
       "      <td>201.35</td>\n",
       "      <td>201.72</td>\n",
       "      <td>169632646</td>\n",
       "      <td>SPY</td>\n",
       "    </tr>\n",
       "    <tr>\n",
       "      <td>1</td>\n",
       "      <td>2015-01-06</td>\n",
       "      <td>202.09</td>\n",
       "      <td>202.72</td>\n",
       "      <td>198.86</td>\n",
       "      <td>199.82</td>\n",
       "      <td>209151408</td>\n",
       "      <td>SPY</td>\n",
       "    </tr>\n",
       "    <tr>\n",
       "      <td>2</td>\n",
       "      <td>2015-01-07</td>\n",
       "      <td>201.42</td>\n",
       "      <td>202.72</td>\n",
       "      <td>200.88</td>\n",
       "      <td>202.31</td>\n",
       "      <td>125346709</td>\n",
       "      <td>SPY</td>\n",
       "    </tr>\n",
       "    <tr>\n",
       "      <td>3</td>\n",
       "      <td>2015-01-08</td>\n",
       "      <td>204.01</td>\n",
       "      <td>206.16</td>\n",
       "      <td>203.99</td>\n",
       "      <td>205.90</td>\n",
       "      <td>147217784</td>\n",
       "      <td>SPY</td>\n",
       "    </tr>\n",
       "    <tr>\n",
       "      <td>4</td>\n",
       "      <td>2015-01-09</td>\n",
       "      <td>206.40</td>\n",
       "      <td>206.42</td>\n",
       "      <td>203.51</td>\n",
       "      <td>204.25</td>\n",
       "      <td>158567288</td>\n",
       "      <td>SPY</td>\n",
       "    </tr>\n",
       "    <tr>\n",
       "      <td>...</td>\n",
       "      <td>...</td>\n",
       "      <td>...</td>\n",
       "      <td>...</td>\n",
       "      <td>...</td>\n",
       "      <td>...</td>\n",
       "      <td>...</td>\n",
       "      <td>...</td>\n",
       "    </tr>\n",
       "    <tr>\n",
       "      <td>125695</td>\n",
       "      <td>2019-12-24</td>\n",
       "      <td>22.82</td>\n",
       "      <td>22.82</td>\n",
       "      <td>22.77</td>\n",
       "      <td>22.78</td>\n",
       "      <td>2633089</td>\n",
       "      <td>BKLN</td>\n",
       "    </tr>\n",
       "    <tr>\n",
       "      <td>125696</td>\n",
       "      <td>2019-12-26</td>\n",
       "      <td>22.79</td>\n",
       "      <td>22.81</td>\n",
       "      <td>22.79</td>\n",
       "      <td>22.79</td>\n",
       "      <td>2999603</td>\n",
       "      <td>BKLN</td>\n",
       "    </tr>\n",
       "    <tr>\n",
       "      <td>125697</td>\n",
       "      <td>2019-12-27</td>\n",
       "      <td>22.79</td>\n",
       "      <td>22.80</td>\n",
       "      <td>22.78</td>\n",
       "      <td>22.79</td>\n",
       "      <td>2654723</td>\n",
       "      <td>BKLN</td>\n",
       "    </tr>\n",
       "    <tr>\n",
       "      <td>125698</td>\n",
       "      <td>2019-12-30</td>\n",
       "      <td>22.80</td>\n",
       "      <td>22.81</td>\n",
       "      <td>22.71</td>\n",
       "      <td>22.71</td>\n",
       "      <td>3697412</td>\n",
       "      <td>BKLN</td>\n",
       "    </tr>\n",
       "    <tr>\n",
       "      <td>125699</td>\n",
       "      <td>2019-12-31</td>\n",
       "      <td>22.78</td>\n",
       "      <td>22.82</td>\n",
       "      <td>22.78</td>\n",
       "      <td>22.82</td>\n",
       "      <td>3563469</td>\n",
       "      <td>BKLN</td>\n",
       "    </tr>\n",
       "  </tbody>\n",
       "</table>\n",
       "<p>125700 rows × 7 columns</p>\n",
       "</div>"
      ],
      "text/plain": [
       "              date    open    high     low   close     volume ticker\n",
       "0       2015-01-05  204.17  204.37  201.35  201.72  169632646    SPY\n",
       "1       2015-01-06  202.09  202.72  198.86  199.82  209151408    SPY\n",
       "2       2015-01-07  201.42  202.72  200.88  202.31  125346709    SPY\n",
       "3       2015-01-08  204.01  206.16  203.99  205.90  147217784    SPY\n",
       "4       2015-01-09  206.40  206.42  203.51  204.25  158567288    SPY\n",
       "...            ...     ...     ...     ...     ...        ...    ...\n",
       "125695  2019-12-24   22.82   22.82   22.77   22.78    2633089   BKLN\n",
       "125696  2019-12-26   22.79   22.81   22.79   22.79    2999603   BKLN\n",
       "125697  2019-12-27   22.79   22.80   22.78   22.79    2654723   BKLN\n",
       "125698  2019-12-30   22.80   22.81   22.71   22.71    3697412   BKLN\n",
       "125699  2019-12-31   22.78   22.82   22.78   22.82    3563469   BKLN\n",
       "\n",
       "[125700 rows x 7 columns]"
      ]
     },
     "execution_count": 2,
     "metadata": {},
     "output_type": "execute_result"
    }
   ],
   "source": [
    "data1 = pd.read_csv('../stats_100_etfs.csv')\n",
    "data = pd.read_csv('../hun_etfs.csv')\n",
    "data"
   ]
  },
  {
   "cell_type": "code",
   "execution_count": 3,
   "metadata": {
    "scrolled": true
   },
   "outputs": [
    {
     "data": {
      "text/html": [
       "<div>\n",
       "<style scoped>\n",
       "    .dataframe tbody tr th:only-of-type {\n",
       "        vertical-align: middle;\n",
       "    }\n",
       "\n",
       "    .dataframe tbody tr th {\n",
       "        vertical-align: top;\n",
       "    }\n",
       "\n",
       "    .dataframe thead th {\n",
       "        text-align: right;\n",
       "    }\n",
       "</style>\n",
       "<table border=\"1\" class=\"dataframe\">\n",
       "  <thead>\n",
       "    <tr style=\"text-align: right;\">\n",
       "      <th></th>\n",
       "      <th>open</th>\n",
       "      <th>high</th>\n",
       "      <th>low</th>\n",
       "      <th>close</th>\n",
       "      <th>volume</th>\n",
       "      <th>ticker</th>\n",
       "    </tr>\n",
       "    <tr>\n",
       "      <th>date</th>\n",
       "      <th></th>\n",
       "      <th></th>\n",
       "      <th></th>\n",
       "      <th></th>\n",
       "      <th></th>\n",
       "      <th></th>\n",
       "    </tr>\n",
       "  </thead>\n",
       "  <tbody>\n",
       "    <tr>\n",
       "      <td>2015-01-05</td>\n",
       "      <td>101.33</td>\n",
       "      <td>103.14</td>\n",
       "      <td>101.17</td>\n",
       "      <td>101.95</td>\n",
       "      <td>4631829</td>\n",
       "      <td>IBB</td>\n",
       "    </tr>\n",
       "    <tr>\n",
       "      <td>2015-01-06</td>\n",
       "      <td>102.41</td>\n",
       "      <td>103.12</td>\n",
       "      <td>99.35</td>\n",
       "      <td>100.27</td>\n",
       "      <td>5650950</td>\n",
       "      <td>IBB</td>\n",
       "    </tr>\n",
       "    <tr>\n",
       "      <td>2015-01-07</td>\n",
       "      <td>101.49</td>\n",
       "      <td>104.00</td>\n",
       "      <td>101.42</td>\n",
       "      <td>104.00</td>\n",
       "      <td>4649124</td>\n",
       "      <td>IBB</td>\n",
       "    </tr>\n",
       "    <tr>\n",
       "      <td>2015-01-08</td>\n",
       "      <td>105.32</td>\n",
       "      <td>105.57</td>\n",
       "      <td>103.89</td>\n",
       "      <td>104.81</td>\n",
       "      <td>4237062</td>\n",
       "      <td>IBB</td>\n",
       "    </tr>\n",
       "    <tr>\n",
       "      <td>2015-01-09</td>\n",
       "      <td>105.53</td>\n",
       "      <td>105.69</td>\n",
       "      <td>103.41</td>\n",
       "      <td>104.44</td>\n",
       "      <td>3108003</td>\n",
       "      <td>IBB</td>\n",
       "    </tr>\n",
       "    <tr>\n",
       "      <td>...</td>\n",
       "      <td>...</td>\n",
       "      <td>...</td>\n",
       "      <td>...</td>\n",
       "      <td>...</td>\n",
       "      <td>...</td>\n",
       "      <td>...</td>\n",
       "    </tr>\n",
       "    <tr>\n",
       "      <td>2019-12-24</td>\n",
       "      <td>122.72</td>\n",
       "      <td>123.74</td>\n",
       "      <td>122.48</td>\n",
       "      <td>123.50</td>\n",
       "      <td>973173</td>\n",
       "      <td>IBB</td>\n",
       "    </tr>\n",
       "    <tr>\n",
       "      <td>2019-12-26</td>\n",
       "      <td>123.51</td>\n",
       "      <td>123.68</td>\n",
       "      <td>122.40</td>\n",
       "      <td>122.58</td>\n",
       "      <td>2539703</td>\n",
       "      <td>IBB</td>\n",
       "    </tr>\n",
       "    <tr>\n",
       "      <td>2019-12-27</td>\n",
       "      <td>123.10</td>\n",
       "      <td>123.20</td>\n",
       "      <td>121.17</td>\n",
       "      <td>121.56</td>\n",
       "      <td>3284499</td>\n",
       "      <td>IBB</td>\n",
       "    </tr>\n",
       "    <tr>\n",
       "      <td>2019-12-30</td>\n",
       "      <td>121.34</td>\n",
       "      <td>121.79</td>\n",
       "      <td>119.66</td>\n",
       "      <td>120.18</td>\n",
       "      <td>4155188</td>\n",
       "      <td>IBB</td>\n",
       "    </tr>\n",
       "    <tr>\n",
       "      <td>2019-12-31</td>\n",
       "      <td>119.97</td>\n",
       "      <td>120.75</td>\n",
       "      <td>119.48</td>\n",
       "      <td>120.51</td>\n",
       "      <td>3002886</td>\n",
       "      <td>IBB</td>\n",
       "    </tr>\n",
       "  </tbody>\n",
       "</table>\n",
       "<p>1257 rows × 6 columns</p>\n",
       "</div>"
      ],
      "text/plain": [
       "              open    high     low   close   volume ticker\n",
       "date                                                      \n",
       "2015-01-05  101.33  103.14  101.17  101.95  4631829    IBB\n",
       "2015-01-06  102.41  103.12   99.35  100.27  5650950    IBB\n",
       "2015-01-07  101.49  104.00  101.42  104.00  4649124    IBB\n",
       "2015-01-08  105.32  105.57  103.89  104.81  4237062    IBB\n",
       "2015-01-09  105.53  105.69  103.41  104.44  3108003    IBB\n",
       "...            ...     ...     ...     ...      ...    ...\n",
       "2019-12-24  122.72  123.74  122.48  123.50   973173    IBB\n",
       "2019-12-26  123.51  123.68  122.40  122.58  2539703    IBB\n",
       "2019-12-27  123.10  123.20  121.17  121.56  3284499    IBB\n",
       "2019-12-30  121.34  121.79  119.66  120.18  4155188    IBB\n",
       "2019-12-31  119.97  120.75  119.48  120.51  3002886    IBB\n",
       "\n",
       "[1257 rows x 6 columns]"
      ]
     },
     "execution_count": 3,
     "metadata": {},
     "output_type": "execute_result"
    }
   ],
   "source": [
    "df = data.loc[data['ticker'] == 'IBB']\n",
    "df = df.set_index('date')\n",
    "df"
   ]
  },
  {
   "cell_type": "code",
   "execution_count": 4,
   "metadata": {},
   "outputs": [],
   "source": [
    "# from datetime import datetime\n",
    "# df['date'] = pd.to_datetime(df['date'])"
   ]
  },
  {
   "cell_type": "code",
   "execution_count": 6,
   "metadata": {},
   "outputs": [
    {
     "data": {
      "image/png": "[encoded data removed]",
      "text/plain": [
       "<Figure size 1152x576 with 1 Axes>"
      ]
     },
     "metadata": {
      "needs_background": "light"
     },
     "output_type": "display_data"
    }
   ],
   "source": [
    "plt.figure(figsize=(16,8))\n",
    "plt.title('Close Price History')\n",
    "plt.plot(df['close'])\n",
    "plt.xlabel('Date', fontsize=18)\n",
    "plt.ylabel('Close Price USD ($)', fontsize=18)\n",
    "plt.savefig('ibb_closeprice.png')\n",
    "plt.show()"
   ]
  },
  {
   "cell_type": "code",
   "execution_count": 5,
   "metadata": {},
   "outputs": [
    {
     "data": {
      "text/plain": [
       "1195"
      ]
     },
     "execution_count": 5,
     "metadata": {},
     "output_type": "execute_result"
    }
   ],
   "source": [
    "#Create a new dataframe with only the 'Close column\n",
    "data = df[['close']]\n",
    "#Convert the dataframe to a numpy array\n",
    "dataset = data.values\n",
    "#Get the number of rows to train the model on\n",
    "training_data_len = math.ceil( len(dataset) * .95 )\n",
    "\n",
    "training_data_len"
   ]
  },
  {
   "cell_type": "code",
   "execution_count": 6,
   "metadata": {},
   "outputs": [
    {
     "data": {
      "text/plain": [
       "array([[101.95],\n",
       "       [100.27],\n",
       "       [104.  ],\n",
       "       ...,\n",
       "       [121.56],\n",
       "       [120.18],\n",
       "       [120.51]])"
      ]
     },
     "execution_count": 6,
     "metadata": {},
     "output_type": "execute_result"
    }
   ],
   "source": [
    "dataset"
   ]
  },
  {
   "cell_type": "code",
   "execution_count": 7,
   "metadata": {},
   "outputs": [
    {
     "data": {
      "text/plain": [
       "array([[0.41115584],\n",
       "       [0.37895342],\n",
       "       [0.45045045],\n",
       "       ...,\n",
       "       [0.78704236],\n",
       "       [0.76059038],\n",
       "       [0.76691585]])"
      ]
     },
     "execution_count": 7,
     "metadata": {},
     "output_type": "execute_result"
    }
   ],
   "source": [
    "scaler = MinMaxScaler(feature_range=(0,1))\n",
    "scaled_data = scaler.fit_transform(data)\n",
    "\n",
    "scaled_data"
   ]
  },
  {
   "cell_type": "code",
   "execution_count": 8,
   "metadata": {},
   "outputs": [
    {
     "name": "stdout",
     "output_type": "stream",
     "text": [
      "[array([0.41115584, 0.37895342, 0.45045045, 0.46597661, 0.45888442,\n",
      "       0.47000192, 0.46942687, 0.47326049, 0.42304006, 0.48763657,\n",
      "       0.52213916, 0.49185356, 0.50776308, 0.51696377, 0.55261645,\n",
      "       0.53977382, 0.49511213, 0.51983899, 0.51217175, 0.49894575,\n",
      "       0.48744489, 0.45390071, 0.50105425, 0.47345218, 0.45945946,\n",
      "       0.49051179, 0.48399463, 0.50431282, 0.52367261, 0.54514089])]\n",
      "[0.5618171362852213]\n",
      "\n",
      "[array([0.41115584, 0.37895342, 0.45045045, 0.46597661, 0.45888442,\n",
      "       0.47000192, 0.46942687, 0.47326049, 0.42304006, 0.48763657,\n",
      "       0.52213916, 0.49185356, 0.50776308, 0.51696377, 0.55261645,\n",
      "       0.53977382, 0.49511213, 0.51983899, 0.51217175, 0.49894575,\n",
      "       0.48744489, 0.45390071, 0.50105425, 0.47345218, 0.45945946,\n",
      "       0.49051179, 0.48399463, 0.50431282, 0.52367261, 0.54514089]), array([0.37895342, 0.45045045, 0.46597661, 0.45888442, 0.47000192,\n",
      "       0.46942687, 0.47326049, 0.42304006, 0.48763657, 0.52213916,\n",
      "       0.49185356, 0.50776308, 0.51696377, 0.55261645, 0.53977382,\n",
      "       0.49511213, 0.51983899, 0.51217175, 0.49894575, 0.48744489,\n",
      "       0.45390071, 0.50105425, 0.47345218, 0.45945946, 0.49051179,\n",
      "       0.48399463, 0.50431282, 0.52367261, 0.54514089, 0.56181714])]\n",
      "[0.5618171362852213, 0.5781100249185358]\n",
      "\n"
     ]
    }
   ],
   "source": [
    "#Create the training data set\n",
    "#Create the scaled training data set\n",
    "train_data = scaled_data[0:training_data_len , :]\n",
    "#Split the data into x_train and y_train data sets\n",
    "x_train = []\n",
    "y_train = []\n",
    "\n",
    "for i in range(30, len(train_data)):\n",
    "  x_train.append(train_data[i-30:i, 0])\n",
    "  y_train.append(train_data[i, 0])\n",
    "  if i<= 31:\n",
    "    print(x_train)\n",
    "    print(y_train)\n",
    "    print()"
   ]
  },
  {
   "cell_type": "code",
   "execution_count": 9,
   "metadata": {},
   "outputs": [],
   "source": [
    "#Convert the x_train and y_train to numpy arrays \n",
    "x_train, y_train = np.array(x_train), np.array(y_train)"
   ]
  },
  {
   "cell_type": "code",
   "execution_count": 10,
   "metadata": {},
   "outputs": [
    {
     "data": {
      "text/plain": [
       "(1165, 30, 1)"
      ]
     },
     "execution_count": 10,
     "metadata": {},
     "output_type": "execute_result"
    }
   ],
   "source": [
    "#Reshape the data\n",
    "x_train = np.reshape(x_train, (x_train.shape[0], x_train.shape[1], 1))\n",
    "x_train.shape"
   ]
  },
  {
   "cell_type": "code",
   "execution_count": 11,
   "metadata": {},
   "outputs": [
    {
     "name": "stdout",
     "output_type": "stream",
     "text": [
      "WARNING:tensorflow:From C:\\Users\\jayar\\anaconda\\Anaconda3\\envs\\PandaSpace\\lib\\site-packages\\keras\\backend\\tensorflow_backend.py:74: The name tf.get_default_graph is deprecated. Please use tf.compat.v1.get_default_graph instead.\n",
      "\n",
      "WARNING:tensorflow:From C:\\Users\\jayar\\anaconda\\Anaconda3\\envs\\PandaSpace\\lib\\site-packages\\keras\\backend\\tensorflow_backend.py:517: The name tf.placeholder is deprecated. Please use tf.compat.v1.placeholder instead.\n",
      "\n",
      "WARNING:tensorflow:From C:\\Users\\jayar\\anaconda\\Anaconda3\\envs\\PandaSpace\\lib\\site-packages\\keras\\backend\\tensorflow_backend.py:4138: The name tf.random_uniform is deprecated. Please use tf.random.uniform instead.\n",
      "\n"
     ]
    }
   ],
   "source": [
    "#Build the LSTM model\n",
    "model = Sequential()\n",
    "model.add(LSTM(50, return_sequences=True, input_shape= (x_train.shape[1], 1)))\n",
    "model.add(LSTM(50, return_sequences= False))\n",
    "model.add(Dense(25))\n",
    "model.add(Dense(1))"
   ]
  },
  {
   "cell_type": "code",
   "execution_count": 12,
   "metadata": {},
   "outputs": [
    {
     "name": "stdout",
     "output_type": "stream",
     "text": [
      "WARNING:tensorflow:From C:\\Users\\jayar\\anaconda\\Anaconda3\\envs\\PandaSpace\\lib\\site-packages\\keras\\optimizers.py:790: The name tf.train.Optimizer is deprecated. Please use tf.compat.v1.train.Optimizer instead.\n",
      "\n"
     ]
    }
   ],
   "source": [
    "#Compile the model\n",
    "model.compile(optimizer='adam', loss='mean_squared_error')"
   ]
  },
  {
   "cell_type": "code",
   "execution_count": 13,
   "metadata": {},
   "outputs": [
    {
     "name": "stdout",
     "output_type": "stream",
     "text": [
      "WARNING:tensorflow:From C:\\Users\\jayar\\anaconda\\Anaconda3\\envs\\PandaSpace\\lib\\site-packages\\tensorflow\\python\\ops\\math_grad.py:1250: add_dispatch_support.<locals>.wrapper (from tensorflow.python.ops.array_ops) is deprecated and will be removed in a future version.\n",
      "Instructions for updating:\n",
      "Use tf.where in 2.0, which has the same broadcast rule as np.where\n",
      "WARNING:tensorflow:From C:\\Users\\jayar\\anaconda\\Anaconda3\\envs\\PandaSpace\\lib\\site-packages\\keras\\backend\\tensorflow_backend.py:986: The name tf.assign_add is deprecated. Please use tf.compat.v1.assign_add instead.\n",
      "\n",
      "WARNING:tensorflow:From C:\\Users\\jayar\\anaconda\\Anaconda3\\envs\\PandaSpace\\lib\\site-packages\\keras\\backend\\tensorflow_backend.py:973: The name tf.assign is deprecated. Please use tf.compat.v1.assign instead.\n",
      "\n",
      "Epoch 1/1\n",
      "1165/1165 [==============================] - 51s 43ms/step - loss: 0.0047\n"
     ]
    },
    {
     "data": {
      "text/plain": [
       "<keras.callbacks.History at 0x1d28d61c898>"
      ]
     },
     "execution_count": 13,
     "metadata": {},
     "output_type": "execute_result"
    }
   ],
   "source": [
    "#Train the model\n",
    "model.fit(x_train, y_train, batch_size=1, epochs=1)"
   ]
  },
  {
   "cell_type": "code",
   "execution_count": 14,
   "metadata": {},
   "outputs": [],
   "source": [
    "#Create the testing data set\n",
    "#Create a new array containing scaled values from index 1543 to 2002 \n",
    "test_data = scaled_data[training_data_len - 30: , :]\n",
    "#Create the data sets x_test and y_test\n",
    "x_test = []\n",
    "y_test = dataset[training_data_len:, :]\n",
    "for i in range(30, len(test_data)):\n",
    "  x_test.append(test_data[i-30:i, 0])"
   ]
  },
  {
   "cell_type": "code",
   "execution_count": 15,
   "metadata": {},
   "outputs": [],
   "source": [
    "#Convert the data to a numpy array\n",
    "x_test = np.array(x_test)"
   ]
  },
  {
   "cell_type": "code",
   "execution_count": 16,
   "metadata": {},
   "outputs": [],
   "source": [
    "#Reshape the data\n",
    "x_test = np.reshape(x_test, (x_test.shape[0], x_test.shape[1], 1 ))"
   ]
  },
  {
   "cell_type": "code",
   "execution_count": 17,
   "metadata": {},
   "outputs": [],
   "source": [
    "#Get the models predicted price values \n",
    "predictions = model.predict(x_test)\n",
    "predictions = scaler.inverse_transform(predictions)"
   ]
  },
  {
   "cell_type": "code",
   "execution_count": 18,
   "metadata": {},
   "outputs": [
    {
     "data": {
      "text/plain": [
       "2.817589919331646"
      ]
     },
     "execution_count": 18,
     "metadata": {},
     "output_type": "execute_result"
    }
   ],
   "source": [
    "#Get the root mean squared error (RMSE)\n",
    "rmse=np.sqrt(np.mean(((predictions- y_test)**2)))\n",
    "rmse"
   ]
  },
  {
   "cell_type": "code",
   "execution_count": 19,
   "metadata": {},
   "outputs": [
    {
     "name": "stderr",
     "output_type": "stream",
     "text": [
      "C:\\Users\\jayar\\anaconda\\Anaconda3\\envs\\PandaSpace\\lib\\site-packages\\ipykernel_launcher.py:5: SettingWithCopyWarning: \n",
      "A value is trying to be set on a copy of a slice from a DataFrame.\n",
      "Try using .loc[row_indexer,col_indexer] = value instead\n",
      "\n",
      "See the caveats in the documentation: http://pandas.pydata.org/pandas-docs/stable/user_guide/indexing.html#returning-a-view-versus-a-copy\n",
      "  \"\"\"\n"
     ]
    },
    {
     "data": {
      "image/png": "[encoded data removed]",
      "text/plain": [
       "<Figure size 1152x576 with 1 Axes>"
      ]
     },
     "metadata": {
      "needs_background": "light"
     },
     "output_type": "display_data"
    }
   ],
   "source": [
    "from datetime import datetime\n",
    "#Plot the data\n",
    "train = data[:training_data_len]\n",
    "valid = data[training_data_len:]\n",
    "valid['Predictions'] = predictions\n",
    "#Visualize the data\n",
    "plt.figure(figsize=(16,8))\n",
    "plt.title('IBB LSTM Forecast')\n",
    "plt.xlabel('Date', fontsize=18)\n",
    "plt.ylabel('Close Price USD ($)', fontsize=18)\n",
    "plt.plot(train['close'])\n",
    "plt.plot(valid[['close', 'Predictions']])\n",
    "# plt.xlim(\n",
    "#     xmin=datetime(2019, 10, 1), # the one that doesn't change\n",
    "#     xmax=datetime(2019, 12, 31) # the latest datetime in your dataset\n",
    "# )\n",
    "plt.legend(['Train', 'Val', 'Predictions'], loc='lower right')\n",
    "plt.savefig('ibb_lstm_forecast.png')\n",
    "plt.show()"
   ]
  },
  {
   "cell_type": "code",
   "execution_count": 20,
   "metadata": {
    "scrolled": true
   },
   "outputs": [
    {
     "data": {
      "text/html": [
       "<div>\n",
       "<style scoped>\n",
       "    .dataframe tbody tr th:only-of-type {\n",
       "        vertical-align: middle;\n",
       "    }\n",
       "\n",
       "    .dataframe tbody tr th {\n",
       "        vertical-align: top;\n",
       "    }\n",
       "\n",
       "    .dataframe thead th {\n",
       "        text-align: right;\n",
       "    }\n",
       "</style>\n",
       "<table border=\"1\" class=\"dataframe\">\n",
       "  <thead>\n",
       "    <tr style=\"text-align: right;\">\n",
       "      <th></th>\n",
       "      <th>close</th>\n",
       "      <th>Predictions</th>\n",
       "    </tr>\n",
       "    <tr>\n",
       "      <th>date</th>\n",
       "      <th></th>\n",
       "      <th></th>\n",
       "    </tr>\n",
       "  </thead>\n",
       "  <tbody>\n",
       "    <tr>\n",
       "      <td>2019-10-03</td>\n",
       "      <td>98.79</td>\n",
       "      <td>97.723518</td>\n",
       "    </tr>\n",
       "    <tr>\n",
       "      <td>2019-10-04</td>\n",
       "      <td>99.53</td>\n",
       "      <td>97.721474</td>\n",
       "    </tr>\n",
       "    <tr>\n",
       "      <td>2019-10-07</td>\n",
       "      <td>99.41</td>\n",
       "      <td>98.196526</td>\n",
       "    </tr>\n",
       "    <tr>\n",
       "      <td>2019-10-08</td>\n",
       "      <td>97.61</td>\n",
       "      <td>98.699448</td>\n",
       "    </tr>\n",
       "    <tr>\n",
       "      <td>2019-10-09</td>\n",
       "      <td>97.75</td>\n",
       "      <td>98.568336</td>\n",
       "    </tr>\n",
       "    <tr>\n",
       "      <td>...</td>\n",
       "      <td>...</td>\n",
       "      <td>...</td>\n",
       "    </tr>\n",
       "    <tr>\n",
       "      <td>2019-12-24</td>\n",
       "      <td>123.50</td>\n",
       "      <td>119.183426</td>\n",
       "    </tr>\n",
       "    <tr>\n",
       "      <td>2019-12-26</td>\n",
       "      <td>122.58</td>\n",
       "      <td>119.871002</td>\n",
       "    </tr>\n",
       "    <tr>\n",
       "      <td>2019-12-27</td>\n",
       "      <td>121.56</td>\n",
       "      <td>120.022293</td>\n",
       "    </tr>\n",
       "    <tr>\n",
       "      <td>2019-12-30</td>\n",
       "      <td>120.18</td>\n",
       "      <td>119.575859</td>\n",
       "    </tr>\n",
       "    <tr>\n",
       "      <td>2019-12-31</td>\n",
       "      <td>120.51</td>\n",
       "      <td>118.601616</td>\n",
       "    </tr>\n",
       "  </tbody>\n",
       "</table>\n",
       "<p>62 rows × 2 columns</p>\n",
       "</div>"
      ],
      "text/plain": [
       "             close  Predictions\n",
       "date                           \n",
       "2019-10-03   98.79    97.723518\n",
       "2019-10-04   99.53    97.721474\n",
       "2019-10-07   99.41    98.196526\n",
       "2019-10-08   97.61    98.699448\n",
       "2019-10-09   97.75    98.568336\n",
       "...            ...          ...\n",
       "2019-12-24  123.50   119.183426\n",
       "2019-12-26  122.58   119.871002\n",
       "2019-12-27  121.56   120.022293\n",
       "2019-12-30  120.18   119.575859\n",
       "2019-12-31  120.51   118.601616\n",
       "\n",
       "[62 rows x 2 columns]"
      ]
     },
     "execution_count": 20,
     "metadata": {},
     "output_type": "execute_result"
    }
   ],
   "source": [
    "valid"
   ]
  },
  {
   "cell_type": "code",
   "execution_count": 21,
   "metadata": {
    "scrolled": true
   },
   "outputs": [
    {
     "name": "stderr",
     "output_type": "stream",
     "text": [
      "C:\\Users\\jayar\\anaconda\\Anaconda3\\envs\\PandaSpace\\lib\\site-packages\\ipykernel_launcher.py:1: SettingWithCopyWarning: \n",
      "A value is trying to be set on a copy of a slice from a DataFrame.\n",
      "Try using .loc[row_indexer,col_indexer] = value instead\n",
      "\n",
      "See the caveats in the documentation: http://pandas.pydata.org/pandas-docs/stable/user_guide/indexing.html#returning-a-view-versus-a-copy\n",
      "  \"\"\"Entry point for launching an IPython kernel.\n",
      "C:\\Users\\jayar\\anaconda\\Anaconda3\\envs\\PandaSpace\\lib\\site-packages\\ipykernel_launcher.py:2: SettingWithCopyWarning: \n",
      "A value is trying to be set on a copy of a slice from a DataFrame.\n",
      "Try using .loc[row_indexer,col_indexer] = value instead\n",
      "\n",
      "See the caveats in the documentation: http://pandas.pydata.org/pandas-docs/stable/user_guide/indexing.html#returning-a-view-versus-a-copy\n",
      "  \n",
      "C:\\Users\\jayar\\anaconda\\Anaconda3\\envs\\PandaSpace\\lib\\site-packages\\ipykernel_launcher.py:3: SettingWithCopyWarning: \n",
      "A value is trying to be set on a copy of a slice from a DataFrame.\n",
      "Try using .loc[row_indexer,col_indexer] = value instead\n",
      "\n",
      "See the caveats in the documentation: http://pandas.pydata.org/pandas-docs/stable/user_guide/indexing.html#returning-a-view-versus-a-copy\n",
      "  This is separate from the ipykernel package so we can avoid doing imports until\n"
     ]
    },
    {
     "data": {
      "text/html": [
       "<div>\n",
       "<style scoped>\n",
       "    .dataframe tbody tr th:only-of-type {\n",
       "        vertical-align: middle;\n",
       "    }\n",
       "\n",
       "    .dataframe tbody tr th {\n",
       "        vertical-align: top;\n",
       "    }\n",
       "\n",
       "    .dataframe thead th {\n",
       "        text-align: right;\n",
       "    }\n",
       "</style>\n",
       "<table border=\"1\" class=\"dataframe\">\n",
       "  <thead>\n",
       "    <tr style=\"text-align: right;\">\n",
       "      <th></th>\n",
       "      <th>close</th>\n",
       "      <th>Predictions</th>\n",
       "      <th>difference</th>\n",
       "      <th>difference_pct</th>\n",
       "    </tr>\n",
       "    <tr>\n",
       "      <th>date</th>\n",
       "      <th></th>\n",
       "      <th></th>\n",
       "      <th></th>\n",
       "      <th></th>\n",
       "    </tr>\n",
       "  </thead>\n",
       "  <tbody>\n",
       "    <tr>\n",
       "      <td>2019-10-03</td>\n",
       "      <td>98.79</td>\n",
       "      <td>97.723518</td>\n",
       "      <td>1.066482</td>\n",
       "      <td>1.08%</td>\n",
       "    </tr>\n",
       "    <tr>\n",
       "      <td>2019-10-04</td>\n",
       "      <td>99.53</td>\n",
       "      <td>97.721474</td>\n",
       "      <td>1.808526</td>\n",
       "      <td>1.82%</td>\n",
       "    </tr>\n",
       "    <tr>\n",
       "      <td>2019-10-07</td>\n",
       "      <td>99.41</td>\n",
       "      <td>98.196526</td>\n",
       "      <td>1.213474</td>\n",
       "      <td>1.22%</td>\n",
       "    </tr>\n",
       "    <tr>\n",
       "      <td>2019-10-08</td>\n",
       "      <td>97.61</td>\n",
       "      <td>98.699448</td>\n",
       "      <td>-1.089448</td>\n",
       "      <td>-1.12%</td>\n",
       "    </tr>\n",
       "    <tr>\n",
       "      <td>2019-10-09</td>\n",
       "      <td>97.75</td>\n",
       "      <td>98.568336</td>\n",
       "      <td>-0.818336</td>\n",
       "      <td>-0.84%</td>\n",
       "    </tr>\n",
       "    <tr>\n",
       "      <td>...</td>\n",
       "      <td>...</td>\n",
       "      <td>...</td>\n",
       "      <td>...</td>\n",
       "      <td>...</td>\n",
       "    </tr>\n",
       "    <tr>\n",
       "      <td>2019-12-24</td>\n",
       "      <td>123.50</td>\n",
       "      <td>119.183426</td>\n",
       "      <td>4.316574</td>\n",
       "      <td>3.50%</td>\n",
       "    </tr>\n",
       "    <tr>\n",
       "      <td>2019-12-26</td>\n",
       "      <td>122.58</td>\n",
       "      <td>119.871002</td>\n",
       "      <td>2.708998</td>\n",
       "      <td>2.21%</td>\n",
       "    </tr>\n",
       "    <tr>\n",
       "      <td>2019-12-27</td>\n",
       "      <td>121.56</td>\n",
       "      <td>120.022293</td>\n",
       "      <td>1.537707</td>\n",
       "      <td>1.26%</td>\n",
       "    </tr>\n",
       "    <tr>\n",
       "      <td>2019-12-30</td>\n",
       "      <td>120.18</td>\n",
       "      <td>119.575859</td>\n",
       "      <td>0.604141</td>\n",
       "      <td>0.50%</td>\n",
       "    </tr>\n",
       "    <tr>\n",
       "      <td>2019-12-31</td>\n",
       "      <td>120.51</td>\n",
       "      <td>118.601616</td>\n",
       "      <td>1.908384</td>\n",
       "      <td>1.58%</td>\n",
       "    </tr>\n",
       "  </tbody>\n",
       "</table>\n",
       "<p>62 rows × 4 columns</p>\n",
       "</div>"
      ],
      "text/plain": [
       "             close  Predictions  difference difference_pct\n",
       "date                                                      \n",
       "2019-10-03   98.79    97.723518    1.066482          1.08%\n",
       "2019-10-04   99.53    97.721474    1.808526          1.82%\n",
       "2019-10-07   99.41    98.196526    1.213474          1.22%\n",
       "2019-10-08   97.61    98.699448   -1.089448         -1.12%\n",
       "2019-10-09   97.75    98.568336   -0.818336         -0.84%\n",
       "...            ...          ...         ...            ...\n",
       "2019-12-24  123.50   119.183426    4.316574          3.50%\n",
       "2019-12-26  122.58   119.871002    2.708998          2.21%\n",
       "2019-12-27  121.56   120.022293    1.537707          1.26%\n",
       "2019-12-30  120.18   119.575859    0.604141          0.50%\n",
       "2019-12-31  120.51   118.601616    1.908384          1.58%\n",
       "\n",
       "[62 rows x 4 columns]"
      ]
     },
     "execution_count": 21,
     "metadata": {},
     "output_type": "execute_result"
    }
   ],
   "source": [
    "valid['difference'] = valid['close'] - valid['Predictions']\n",
    "valid['difference_pct'] = valid['difference']/valid['close']\n",
    "valid['difference_pct'] = valid['difference_pct'].map(\"{:.2%}\".format)\n",
    "valid"
   ]
  },
  {
   "cell_type": "code",
   "execution_count": 22,
   "metadata": {},
   "outputs": [],
   "source": [
    "valid.to_csv('ibb_predictions_lstm.csv')"
   ]
  },
  {
   "cell_type": "code",
   "execution_count": 75,
   "metadata": {},
   "outputs": [],
   "source": [
    "# #Get the quote\n",
    "# spy_quote = web.DataReader('SPY', data_source='yahoo', start='2019-11-27', end='2020-01-10')\n",
    "# #Create a new dataframe\n",
    "# new_df = spy_quote.filter(['Close'])\n",
    "# #Get teh last 60 day closing price values and convert the dataframe to an array\n",
    "# last_60_days = new_df[-60:].values\n",
    "# #Scale the data to be values between 0 and 1\n",
    "# last_60_days_scaled = scaler.transform(last_60_days)\n",
    "# #Create an empty list\n",
    "# X_test = []\n",
    "# #Append teh past 60 days\n",
    "# X_test.append(last_60_days_scaled)\n",
    "# #Convert the X_test data set to a numpy array\n",
    "# X_test = np.array(X_test)\n",
    "# #Reshape the data\n",
    "# X_test = np.reshape(X_test, (X_test.shape[0], X_test.shape[1], 1))\n",
    "# #Get the predicted scaled price\n",
    "# pred_price = model.predict(X_test)\n",
    "# #undo the scaling \n",
    "# pred_price = scaler.inverse_transform(pred_price)\n",
    "# print(pred_price)"
   ]
  },
  {
   "cell_type": "code",
   "execution_count": 76,
   "metadata": {},
   "outputs": [],
   "source": [
    "# spy_quote2 = web.DataReader('SPY', data_source='yahoo', start='2019-11-27', end='2020-01-10')\n",
    "# print(spy_quote2['Close'])"
   ]
  },
  {
   "cell_type": "code",
   "execution_count": null,
   "metadata": {},
   "outputs": [],
   "source": []
  }
 ],
 "metadata": {
  "kernelspec": {
   "display_name": "Python [conda env:PandaSpace] *",
   "language": "python",
   "name": "conda-env-PandaSpace-py"
  },
  "language_info": {
   "codemirror_mode": {
    "name": "ipython",
    "version": 3
   },
   "file_extension": ".py",
   "mimetype": "text/x-python",
   "name": "python",
   "nbconvert_exporter": "python",
   "pygments_lexer": "ipython3",
   "version": "3.6.9"
  }
 },
 "nbformat": 4,
 "nbformat_minor": 2
}
