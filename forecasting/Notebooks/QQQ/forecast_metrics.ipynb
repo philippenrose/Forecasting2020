{
 "cells": [
  {
   "cell_type": "code",
   "execution_count": 2,
   "metadata": {
    "extensions": {
     "jupyter_dashboards": {
      "version": 1,
      "views": {
       "grid_default": {},
       "report_default": {
        "hidden": true
       }
      }
     }
    }
   },
   "outputs": [
    {
     "name": "stderr",
     "output_type": "stream",
     "text": [
      "Using TensorFlow backend.\n"
     ]
    },
    {
     "data": {
      "text/html": [
       "        <script type=\"text/javascript\">\n",
       "        window.PlotlyConfig = {MathJaxConfig: 'local'};\n",
       "        if (window.MathJax) {MathJax.Hub.Config({SVG: {font: \"STIX-Web\"}});}\n",
       "        if (typeof require !== 'undefined') {\n",
       "        require.undef(\"plotly\");\n",
       "        requirejs.config({\n",
       "            paths: {\n",
       "                'plotly': ['https://cdn.plot.ly/plotly-latest.min']\n",
       "            }\n",
       "        });\n",
       "        require(['plotly'], function(Plotly) {\n",
       "            window._Plotly = Plotly;\n",
       "        });\n",
       "        }\n",
       "        </script>\n",
       "        "
      ]
     },
     "metadata": {},
     "output_type": "display_data"
    }
   ],
   "source": [
    "from datetime import datetime\n",
    "from iexfinance.stocks import get_historical_data\n",
    "import pandas as pd\n",
    "from keras.models import Sequential\n",
    "from keras.layers import Activation, Dense, LSTM, Dropout\n",
    "from sklearn.preprocessing import MinMaxScaler\n",
    "from sklearn.metrics import accuracy_score, precision_score, roc_auc_score, f1_score, confusion_matrix, r2_score, mean_squared_error, mean_absolute_error\n",
    "import numpy as np\n",
    "import matplotlib.pyplot as plt\n",
    "from ipywidgets import interact\n",
    "from plotly.offline import download_plotlyjs, init_notebook_mode, plot, iplot\n",
    "import plotly.graph_objs as go\n",
    "init_notebook_mode(connected=True)\n",
    "import plotly\n",
    "import timeit\n",
    "import random\n",
    "random.seed(7)"
   ]
  },
  {
   "cell_type": "code",
   "execution_count": 3,
   "metadata": {},
   "outputs": [],
   "source": [
    "# etf_list = ['SPY','IVV','VTI','VOO','QQQ','VEA','EFA','IEFA','VWO','AGG','IJH','IEMG','IWM','IJR','VTV','IWF','IWD','VUG','BND','LQD','XLF','VNQ','VIG','EEM','GLD','VB','BSV','VO','TIP','VEU','IVW','DIA','XLK','VYM','VGT','VCSH','MDY','IWB','VCIT','XLV','IWR','XLE','DVY','USMV','EWJ','VGK','PFF','SCHF','SDY','RSP','XLY','ITOT','IVE','SCHX','HYG','SHV','VBR','EMB','SHY','VV','SCHB','XLI','BIV','VT','MBB','BNDX','IWS','VXUS','FLOT','IWO','IXUS','MINT','SCZ','PYZ','MXI','IYM','IXP','RXI','VCR','RHS','VDC','PXI','PXE','IEO','RYF','IYG','KIE','FBT','PTH','IHI','ITA','VIS','ICF','REZ','RWR','PSJ','IGV','RYU','IDU','VPU']\n",
    "# data = pd.read_csv('stats_100_etfs.csv')\n",
    "# data\n",
    "etf_list = ['SPY']"
   ]
  },
  {
   "cell_type": "code",
   "execution_count": 4,
   "metadata": {
    "extensions": {
     "jupyter_dashboards": {
      "version": 1,
      "views": {
       "grid_default": {},
       "report_default": {
        "hidden": true
       }
      }
     }
    }
   },
   "outputs": [],
   "source": [
    "def get_iex_data(stock_list, start=datetime(2015,1,1), end=datetime(2019,12,31)):\n",
    "    return_list = []\n",
    "    for i in stock_list:\n",
    "        df = pd.DataFrame(get_historical_data(i, start, end, output_format='pandas', token='pk_d28c0190de7a4d6da30b3bd2b08487c8')).interpolate()\n",
    "        df['ticker'] = i\n",
    "        return_list.append(df)\n",
    "    return return_list\n",
    "\n",
    "def lstm_clean_data(data):\n",
    "    for i in range(len(data)):\n",
    "        data[i] = data[i].reset_index().dropna()\n",
    "        data[i]['date'] = pd.to_datetime(data[i]['date'])\n",
    "        data[i] = data[i].set_index('date')\n",
    "        data[i]['Reg_Target'] = data[i]['close'].shift(-1)\n",
    "    return data\n",
    "\n",
    "def add_past(etf_list, times):\n",
    "    for i in range(len(etf_list)):\n",
    "        for n in times:\n",
    "            etf_list[i]['{}day return'.format(n)] = -etf_list[i]['close'].diff(periods=n).round(3)\n",
    "    return etf_list\n",
    "\n",
    "def lstm_time_test_split(X, n_past, date):\n",
    "    X = X.reset_index()\n",
    "    scaler = MinMaxScaler()\n",
    "    y_scaler = MinMaxScaler()\n",
    "    ticker = X['ticker'].iloc[0]\n",
    "    x_train = X[X['date'] < date].drop(columns=['date', 'Reg_Target', 'ticker', '1day return', '5day return', '21day return', '252day return'])\n",
    "    scaler.fit(x_train)\n",
    "    x_test = X[X['date'] >= date].drop(columns=['date', 'Reg_Target', 'ticker', '1day return', '5day return', '21day return', '252day return'])[:-1]\n",
    "    x_train = scaler.transform(x_train)\n",
    "    x_train = np.reshape(x_train,(x_train.shape[0], n_past, x_train.shape[1]))\n",
    "    x_test = scaler.transform(x_test)\n",
    "    x_test = np.reshape(x_test,(x_test.shape[0], n_past, x_test.shape[1]))\n",
    "    y_train = np.array(X[X['date'] < date]['Reg_Target'].drop(columns='date')).ravel().astype('float').reshape(-1,1)\n",
    "    y_scaler.fit(y_train)\n",
    "    y_train = y_scaler.transform(y_train)\n",
    "    y_test = np.array(X[X['date'] >= date]['Reg_Target'].drop(columns='date')).ravel().astype('float')[:-1].reshape(-1,1)\n",
    "    y_test = y_scaler.transform(y_test)\n",
    "    x_holdout = X[X['date'] >= date].drop(columns=['date', 'Reg_Target', 'ticker', '1day return', '5day return', '21day return', '252day return'])[-1:]\n",
    "    x_holdout = scaler.transform(x_holdout)\n",
    "    x_holdout = np.reshape(x_holdout,(x_holdout.shape[0], n_past, x_holdout.shape[1]))\n",
    "#     y_test = scaler.transform(y_test)\n",
    "    return ticker, x_train, x_test, x_holdout, y_train, y_test, scaler, y_scaler\n",
    "\n",
    "def build_step_model(x_train, y_train, epoc):\n",
    "    model = Sequential()\n",
    "    model.add(LSTM(50, input_shape=(x_train.shape[1], x_train.shape[2]), return_sequences=True))\n",
    "    model.add(Dropout(0.2))\n",
    "    model.add(LSTM(100, return_sequences=False))\n",
    "    model.add(Dropout(0.2))\n",
    "    model.add(Dense(1))\n",
    "    model.add(Activation('relu'))\n",
    "    model.compile(loss='mse', optimizer='adam')\n",
    "    history = model.fit(x_train, y_train, epochs=epoc, batch_size=64, validation_split=.1, verbose=2,shuffle=False)\n",
    "    return model, history\n",
    "\n",
    "def yield_preds(model, scaler, x_test, x_holdout, y_test):\n",
    "    yhat = model.predict(x_test)\n",
    "    preds = scaler.inverse_transform(yhat)\n",
    "    true = scaler.inverse_transform(y_test)\n",
    "    today = model.predict(x_holdout)\n",
    "    today_pred = scaler.inverse_transform(today)\n",
    "    return preds, today_pred\n",
    "\n",
    "def run_all_lstms(data, split, epoc):\n",
    "    out = pd.DataFrame()\n",
    "    tomorrow = pd.DataFrame()\n",
    "    start = timeit.default_timer()\n",
    "    for i in range(len(data)):\n",
    "        ticker, x_train, x_test, x_holdout, y_train, y_test, scaler, y_scaler = lstm_time_test_split(data[i], 1, split)\n",
    "        print('Model #: {}'.format(i))\n",
    "        model, history = build_step_model(x_train, y_train, epoc)\n",
    "        preds, future = yield_preds(model, y_scaler, x_test, x_holdout, y_test)\n",
    "        out[ticker] = preds.flatten()\n",
    "        tomorrow[ticker] = future.flatten()\n",
    "    out = out.set_index(data[0][-len(out):].index)\n",
    "    stop = timeit.default_timer()\n",
    "    print('Time: ', stop - start)\n",
    "    return out, tomorrow\n",
    "data = get_iex_data(etf_list)\n",
    "clean_full = lstm_clean_data(data)\n",
    "data = add_past(clean_full, [1, 5, 21, 252])"
   ]
  },
  {
   "cell_type": "code",
   "execution_count": 1,
   "metadata": {},
   "outputs": [
    {
     "ename": "NameError",
     "evalue": "name 'data' is not defined",
     "output_type": "error",
     "traceback": [
      "\u001b[1;31m---------------------------------------------------------------------------\u001b[0m",
      "\u001b[1;31mNameError\u001b[0m                                 Traceback (most recent call last)",
      "\u001b[1;32m<ipython-input-1-1bc33442729e>\u001b[0m in \u001b[0;36m<module>\u001b[1;34m\u001b[0m\n\u001b[0;32m      1\u001b[0m \u001b[1;31m# data\u001b[0m\u001b[1;33m\u001b[0m\u001b[1;33m\u001b[0m\u001b[1;33m\u001b[0m\u001b[0m\n\u001b[1;32m----> 2\u001b[1;33m \u001b[0mcomb\u001b[0m \u001b[1;33m=\u001b[0m \u001b[0mdata\u001b[0m\u001b[1;33m[\u001b[0m\u001b[1;36m0\u001b[0m\u001b[1;33m]\u001b[0m\u001b[1;33m\u001b[0m\u001b[1;33m\u001b[0m\u001b[0m\n\u001b[0m\u001b[0;32m      3\u001b[0m \u001b[0mx\u001b[0m\u001b[1;33m=\u001b[0m\u001b[1;36m1\u001b[0m\u001b[1;33m\u001b[0m\u001b[1;33m\u001b[0m\u001b[0m\n\u001b[0;32m      4\u001b[0m \u001b[1;32mwhile\u001b[0m \u001b[0mx\u001b[0m \u001b[1;33m!=\u001b[0m \u001b[1;36m100\u001b[0m\u001b[1;33m:\u001b[0m\u001b[1;33m\u001b[0m\u001b[1;33m\u001b[0m\u001b[0m\n\u001b[0;32m      5\u001b[0m     \u001b[0mcomb\u001b[0m \u001b[1;33m=\u001b[0m \u001b[0mcomb\u001b[0m\u001b[1;33m.\u001b[0m\u001b[0mappend\u001b[0m\u001b[1;33m(\u001b[0m\u001b[0mdata\u001b[0m\u001b[1;33m[\u001b[0m\u001b[0mx\u001b[0m\u001b[1;33m]\u001b[0m\u001b[1;33m)\u001b[0m\u001b[1;33m\u001b[0m\u001b[1;33m\u001b[0m\u001b[0m\n",
      "\u001b[1;31mNameError\u001b[0m: name 'data' is not defined"
     ]
    }
   ],
   "source": [
    "# # data\n",
    "# comb = data[0]\n",
    "# x=1\n",
    "# while x != 100:\n",
    "#     comb = comb.append(data[x])\n",
    "#     x += 1\n",
    "#     print (x)\n",
    "# comb\n"
   ]
  },
  {
   "cell_type": "code",
   "execution_count": 6,
   "metadata": {},
   "outputs": [],
   "source": [
    "comb.to_csv('ForeMet_100_etfs.csv', encoding='utf-8')"
   ]
  },
  {
   "cell_type": "code",
   "execution_count": 5,
   "metadata": {
    "extensions": {
     "jupyter_dashboards": {
      "version": 1,
      "views": {
       "grid_default": {},
       "report_default": {
        "hidden": true
       }
      }
     }
    }
   },
   "outputs": [],
   "source": [
    "df = pd.DataFrame()\n",
    "for i in range(len(data)):\n",
    "    df[data[i]['ticker'].iloc[0]] = data[i]['close']"
   ]
  },
  {
   "cell_type": "code",
   "execution_count": 8,
   "metadata": {},
   "outputs": [],
   "source": [
    "df.to_csv('eachetf.csv', encoding='utf-8')"
   ]
  },
  {
   "cell_type": "code",
   "execution_count": 6,
   "metadata": {
    "extensions": {
     "jupyter_dashboards": {
      "version": 1,
      "views": {
       "grid_default": {},
       "report_default": {
        "hidden": true
       }
      }
     }
    }
   },
   "outputs": [],
   "source": [
    "naive = df.shift(1)"
   ]
  },
  {
   "cell_type": "code",
   "execution_count": 7,
   "metadata": {},
   "outputs": [
    {
     "data": {
      "text/html": [
       "<div>\n",
       "<style scoped>\n",
       "    .dataframe tbody tr th:only-of-type {\n",
       "        vertical-align: middle;\n",
       "    }\n",
       "\n",
       "    .dataframe tbody tr th {\n",
       "        vertical-align: top;\n",
       "    }\n",
       "\n",
       "    .dataframe thead th {\n",
       "        text-align: right;\n",
       "    }\n",
       "</style>\n",
       "<table border=\"1\" class=\"dataframe\">\n",
       "  <thead>\n",
       "    <tr style=\"text-align: right;\">\n",
       "      <th></th>\n",
       "      <th>SPY</th>\n",
       "    </tr>\n",
       "    <tr>\n",
       "      <th>date</th>\n",
       "      <th></th>\n",
       "    </tr>\n",
       "  </thead>\n",
       "  <tbody>\n",
       "    <tr>\n",
       "      <td>2015-01-09</td>\n",
       "      <td>NaN</td>\n",
       "    </tr>\n",
       "    <tr>\n",
       "      <td>2015-01-12</td>\n",
       "      <td>204.25</td>\n",
       "    </tr>\n",
       "    <tr>\n",
       "      <td>2015-01-13</td>\n",
       "      <td>202.65</td>\n",
       "    </tr>\n",
       "    <tr>\n",
       "      <td>2015-01-14</td>\n",
       "      <td>202.08</td>\n",
       "    </tr>\n",
       "    <tr>\n",
       "      <td>2015-01-15</td>\n",
       "      <td>200.86</td>\n",
       "    </tr>\n",
       "    <tr>\n",
       "      <td>...</td>\n",
       "      <td>...</td>\n",
       "    </tr>\n",
       "    <tr>\n",
       "      <td>2019-12-24</td>\n",
       "      <td>321.22</td>\n",
       "    </tr>\n",
       "    <tr>\n",
       "      <td>2019-12-26</td>\n",
       "      <td>321.23</td>\n",
       "    </tr>\n",
       "    <tr>\n",
       "      <td>2019-12-27</td>\n",
       "      <td>322.94</td>\n",
       "    </tr>\n",
       "    <tr>\n",
       "      <td>2019-12-30</td>\n",
       "      <td>322.86</td>\n",
       "    </tr>\n",
       "    <tr>\n",
       "      <td>2019-12-31</td>\n",
       "      <td>321.08</td>\n",
       "    </tr>\n",
       "  </tbody>\n",
       "</table>\n",
       "<p>1253 rows × 1 columns</p>\n",
       "</div>"
      ],
      "text/plain": [
       "               SPY\n",
       "date              \n",
       "2015-01-09     NaN\n",
       "2015-01-12  204.25\n",
       "2015-01-13  202.65\n",
       "2015-01-14  202.08\n",
       "2015-01-15  200.86\n",
       "...            ...\n",
       "2019-12-24  321.22\n",
       "2019-12-26  321.23\n",
       "2019-12-27  322.94\n",
       "2019-12-30  322.86\n",
       "2019-12-31  321.08\n",
       "\n",
       "[1253 rows x 1 columns]"
      ]
     },
     "execution_count": 7,
     "metadata": {},
     "output_type": "execute_result"
    }
   ],
   "source": [
    "naive"
   ]
  },
  {
   "cell_type": "code",
   "execution_count": 9,
   "metadata": {
    "extensions": {
     "jupyter_dashboards": {
      "version": 1,
      "views": {
       "grid_default": {},
       "report_default": {
        "hidden": true
       }
      }
     }
    },
    "scrolled": true
   },
   "outputs": [
    {
     "name": "stdout",
     "output_type": "stream",
     "text": [
      "Model #: 0\n",
      "Train on 1090 samples, validate on 122 samples\n",
      "Epoch 1/100\n",
      " - 4s - loss: 0.1701 - val_loss: 0.4168\n",
      "Epoch 2/100\n",
      " - 0s - loss: 0.0447 - val_loss: 0.0829\n",
      "Epoch 3/100\n",
      " - 0s - loss: 0.0106 - val_loss: 0.0038\n",
      "Epoch 4/100\n",
      " - 0s - loss: 0.0175 - val_loss: 0.0117\n",
      "Epoch 5/100\n",
      " - 0s - loss: 0.0113 - val_loss: 0.0067\n",
      "Epoch 6/100\n",
      " - 0s - loss: 0.0078 - val_loss: 0.0027\n",
      "Epoch 7/100\n",
      " - 0s - loss: 0.0064 - val_loss: 0.0023\n",
      "Epoch 8/100\n",
      " - 0s - loss: 0.0049 - val_loss: 9.4998e-04\n",
      "Epoch 9/100\n",
      " - 0s - loss: 0.0039 - val_loss: 7.4846e-04\n",
      "Epoch 10/100\n",
      " - 0s - loss: 0.0031 - val_loss: 5.6697e-04\n",
      "Epoch 11/100\n",
      " - 0s - loss: 0.0029 - val_loss: 6.2229e-04\n",
      "Epoch 12/100\n",
      " - 0s - loss: 0.0026 - val_loss: 6.5721e-04\n",
      "Epoch 13/100\n",
      " - 0s - loss: 0.0028 - val_loss: 6.1850e-04\n",
      "Epoch 14/100\n",
      " - 0s - loss: 0.0024 - val_loss: 7.5228e-04\n",
      "Epoch 15/100\n",
      " - 0s - loss: 0.0024 - val_loss: 6.3289e-04\n",
      "Epoch 16/100\n",
      " - 0s - loss: 0.0033 - val_loss: 0.0016\n",
      "Epoch 17/100\n",
      " - 0s - loss: 0.0032 - val_loss: 7.9410e-04\n",
      "Epoch 18/100\n",
      " - 0s - loss: 0.0029 - val_loss: 0.0025\n",
      "Epoch 19/100\n",
      " - 0s - loss: 0.0036 - val_loss: 0.0016\n",
      "Epoch 20/100\n",
      " - 0s - loss: 0.0046 - val_loss: 0.0031\n",
      "Epoch 21/100\n",
      " - 0s - loss: 0.0052 - val_loss: 0.0023\n",
      "Epoch 22/100\n",
      " - 0s - loss: 0.0041 - val_loss: 0.0031\n",
      "Epoch 23/100\n",
      " - 0s - loss: 0.0040 - val_loss: 0.0026\n",
      "Epoch 24/100\n",
      " - 0s - loss: 0.0047 - val_loss: 0.0028\n",
      "Epoch 25/100\n",
      " - 0s - loss: 0.0041 - val_loss: 0.0029\n",
      "Epoch 26/100\n",
      " - 0s - loss: 0.0068 - val_loss: 0.0021\n",
      "Epoch 27/100\n",
      " - 0s - loss: 0.0050 - val_loss: 0.0026\n",
      "Epoch 28/100\n",
      " - 0s - loss: 0.0041 - val_loss: 0.0014\n",
      "Epoch 29/100\n",
      " - 0s - loss: 0.0029 - val_loss: 7.2357e-04\n",
      "Epoch 30/100\n",
      " - 0s - loss: 0.0024 - val_loss: 0.0013\n",
      "Epoch 31/100\n",
      " - 0s - loss: 0.0026 - val_loss: 5.8162e-04\n",
      "Epoch 32/100\n",
      " - 0s - loss: 0.0023 - val_loss: 6.6919e-04\n",
      "Epoch 33/100\n",
      " - 0s - loss: 0.0023 - val_loss: 5.7198e-04\n",
      "Epoch 34/100\n",
      " - 0s - loss: 0.0022 - val_loss: 5.5385e-04\n",
      "Epoch 35/100\n",
      " - 0s - loss: 0.0021 - val_loss: 6.1289e-04\n",
      "Epoch 36/100\n",
      " - 0s - loss: 0.0022 - val_loss: 7.3476e-04\n",
      "Epoch 37/100\n",
      " - 0s - loss: 0.0020 - val_loss: 5.5460e-04\n",
      "Epoch 38/100\n",
      " - 0s - loss: 0.0021 - val_loss: 5.6692e-04\n",
      "Epoch 39/100\n",
      " - 0s - loss: 0.0020 - val_loss: 5.7694e-04\n",
      "Epoch 40/100\n",
      " - 0s - loss: 0.0021 - val_loss: 5.4525e-04\n",
      "Epoch 41/100\n",
      " - 0s - loss: 0.0021 - val_loss: 7.0955e-04\n",
      "Epoch 42/100\n",
      " - 0s - loss: 0.0022 - val_loss: 0.0011\n",
      "Epoch 43/100\n",
      " - 0s - loss: 0.0025 - val_loss: 0.0013\n",
      "Epoch 44/100\n",
      " - 0s - loss: 0.0025 - val_loss: 9.1396e-04\n",
      "Epoch 45/100\n",
      " - 0s - loss: 0.0021 - val_loss: 6.9669e-04\n",
      "Epoch 46/100\n",
      " - 0s - loss: 0.0024 - val_loss: 0.0010\n",
      "Epoch 47/100\n",
      " - 0s - loss: 0.0020 - val_loss: 6.2260e-04\n",
      "Epoch 48/100\n",
      " - 0s - loss: 0.0018 - val_loss: 6.1347e-04\n",
      "Epoch 49/100\n",
      " - 0s - loss: 0.0019 - val_loss: 5.4553e-04\n",
      "Epoch 50/100\n",
      " - 0s - loss: 0.0020 - val_loss: 6.1919e-04\n",
      "Epoch 51/100\n",
      " - 0s - loss: 0.0018 - val_loss: 5.4142e-04\n",
      "Epoch 52/100\n",
      " - 0s - loss: 0.0019 - val_loss: 5.4489e-04\n",
      "Epoch 53/100\n",
      " - 0s - loss: 0.0020 - val_loss: 9.5834e-04\n",
      "Epoch 54/100\n",
      " - 0s - loss: 0.0025 - val_loss: 0.0012\n",
      "Epoch 55/100\n",
      " - 0s - loss: 0.0021 - val_loss: 5.9331e-04\n",
      "Epoch 56/100\n",
      " - 0s - loss: 0.0021 - val_loss: 8.0859e-04\n",
      "Epoch 57/100\n",
      " - 0s - loss: 0.0019 - val_loss: 5.5270e-04\n",
      "Epoch 58/100\n",
      " - 0s - loss: 0.0020 - val_loss: 8.6267e-04\n",
      "Epoch 59/100\n",
      " - 0s - loss: 0.0017 - val_loss: 5.1812e-04\n",
      "Epoch 60/100\n",
      " - 0s - loss: 0.0021 - val_loss: 0.0011\n",
      "Epoch 61/100\n",
      " - 0s - loss: 0.0020 - val_loss: 0.0010\n",
      "Epoch 62/100\n",
      " - 0s - loss: 0.0019 - val_loss: 0.0017\n",
      "Epoch 63/100\n",
      " - 0s - loss: 0.0022 - val_loss: 0.0020\n",
      "Epoch 64/100\n",
      " - 0s - loss: 0.0026 - val_loss: 0.0013\n",
      "Epoch 65/100\n",
      " - 0s - loss: 0.0019 - val_loss: 6.0170e-04\n",
      "Epoch 66/100\n",
      " - 0s - loss: 0.0024 - val_loss: 0.0023\n",
      "Epoch 67/100\n",
      " - 0s - loss: 0.0038 - val_loss: 0.0048\n",
      "Epoch 68/100\n",
      " - 0s - loss: 0.0029 - val_loss: 0.0026\n",
      "Epoch 69/100\n",
      " - 0s - loss: 0.0028 - val_loss: 0.0024\n",
      "Epoch 70/100\n",
      " - 0s - loss: 0.0018 - val_loss: 5.4887e-04\n",
      "Epoch 71/100\n",
      " - 0s - loss: 0.0016 - val_loss: 5.4649e-04\n",
      "Epoch 72/100\n",
      " - 0s - loss: 0.0017 - val_loss: 5.5258e-04\n",
      "Epoch 73/100\n",
      " - 0s - loss: 0.0016 - val_loss: 5.1132e-04\n",
      "Epoch 74/100\n",
      " - 0s - loss: 0.0017 - val_loss: 0.0015\n",
      "Epoch 75/100\n",
      " - 0s - loss: 0.0028 - val_loss: 0.0033\n",
      "Epoch 76/100\n",
      " - 0s - loss: 0.0033 - val_loss: 0.0041\n",
      "Epoch 77/100\n",
      " - 0s - loss: 0.0021 - val_loss: 0.0015\n",
      "Epoch 78/100\n",
      " - 0s - loss: 0.0020 - val_loss: 0.0012\n",
      "Epoch 79/100\n",
      " - 0s - loss: 0.0019 - val_loss: 0.0010\n",
      "Epoch 80/100\n",
      " - 0s - loss: 0.0017 - val_loss: 7.3413e-04\n",
      "Epoch 81/100\n",
      " - 0s - loss: 0.0016 - val_loss: 5.8783e-04\n",
      "Epoch 82/100\n",
      " - 0s - loss: 0.0021 - val_loss: 0.0014\n",
      "Epoch 83/100\n",
      " - 0s - loss: 0.0023 - val_loss: 0.0020\n",
      "Epoch 84/100\n",
      " - 0s - loss: 0.0016 - val_loss: 5.0173e-04\n",
      "Epoch 85/100\n",
      " - 0s - loss: 0.0016 - val_loss: 9.8344e-04\n",
      "Epoch 86/100\n",
      " - 0s - loss: 0.0015 - val_loss: 5.3456e-04\n",
      "Epoch 87/100\n",
      " - 0s - loss: 0.0017 - val_loss: 5.5915e-04\n",
      "Epoch 88/100\n",
      " - 0s - loss: 0.0016 - val_loss: 7.2873e-04\n",
      "Epoch 89/100\n",
      " - 0s - loss: 0.0017 - val_loss: 6.2752e-04\n",
      "Epoch 90/100\n",
      " - 0s - loss: 0.0016 - val_loss: 5.7384e-04\n",
      "Epoch 91/100\n",
      " - 0s - loss: 0.0017 - val_loss: 6.0471e-04\n",
      "Epoch 92/100\n",
      " - 0s - loss: 0.0014 - val_loss: 8.8394e-04\n",
      "Epoch 93/100\n",
      " - 0s - loss: 0.0016 - val_loss: 5.8794e-04\n",
      "Epoch 94/100\n",
      " - 0s - loss: 0.0016 - val_loss: 7.8664e-04\n",
      "Epoch 95/100\n",
      " - 0s - loss: 0.0016 - val_loss: 4.9564e-04\n",
      "Epoch 96/100\n",
      " - 0s - loss: 0.0014 - val_loss: 9.2184e-04\n",
      "Epoch 97/100\n",
      " - 0s - loss: 0.0015 - val_loss: 7.3176e-04\n",
      "Epoch 98/100\n",
      " - 0s - loss: 0.0020 - val_loss: 0.0016\n",
      "Epoch 99/100\n",
      " - 0s - loss: 0.0016 - val_loss: 5.5425e-04\n",
      "Epoch 100/100\n",
      " - 0s - loss: 0.0014 - val_loss: 6.6513e-04\n",
      "Time:  30.032012300000005\n"
     ]
    }
   ],
   "source": [
    "mapframe_preds, future_preds = run_all_lstms(data, '11-2019', 100)"
   ]
  },
  {
   "cell_type": "markdown",
   "metadata": {
    "extensions": {
     "jupyter_dashboards": {
      "version": 1,
      "views": {
       "grid_default": {},
       "report_default": {
        "hidden": false
       }
      }
     }
    }
   },
   "source": [
    "## Forecasting with LSTM"
   ]
  },
  {
   "cell_type": "code",
   "execution_count": 12,
   "metadata": {
    "extensions": {
     "jupyter_dashboards": {
      "version": 1,
      "views": {
       "grid_default": {},
       "report_default": {
        "hidden": false
       }
      }
     }
    },
    "scrolled": false
   },
   "outputs": [
    {
     "data": {
      "application/vnd.jupyter.widget-view+json": {
       "model_id": "da187e6bbdfa4b939c37d4ce2e8dd1e0",
       "version_major": 2,
       "version_minor": 0
      },
      "text/plain": [
       "interactive(children=(Dropdown(description='ETFs', options=('SPY',), value='SPY'), Output()), _dom_classes=('w…"
      ]
     },
     "metadata": {},
     "output_type": "display_data"
    },
    {
     "data": {
      "text/plain": [
       "<function __main__.lstm_plot(ETFs)>"
      ]
     },
     "execution_count": 12,
     "metadata": {},
     "output_type": "execute_result"
    }
   ],
   "source": [
    "def lstm_plot(ETFs):\n",
    "    nav_rmse = round(mean_squared_error(df[ETFs][mapframe_preds.index].values, naive[ETFs][mapframe_preds.index].values),3)\n",
    "    nav_mae = round(mean_absolute_error(df[ETFs][mapframe_preds.index].values, naive[ETFs][mapframe_preds.index].values),3)\n",
    "    nav_r2 = round(r2_score(df[ETFs][mapframe_preds.index].values, naive[ETFs][mapframe_preds.index].values),3)\n",
    "    rmse = round(mean_squared_error(df[ETFs][mapframe_preds.index].values, mapframe_preds[ETFs].values),3)\n",
    "    mae = round(mean_absolute_error(df[ETFs][mapframe_preds.index].values, mapframe_preds[ETFs].values),3)\n",
    "    r2 = round(r2_score(df[ETFs][mapframe_preds.index].values, mapframe_preds[ETFs].values),3)\n",
    "    true = go.Scatter(x=df.index, y=df[ETFs].values, mode = 'markers', name = 'True Value')\n",
    "    pred = go.Scatter(x=mapframe_preds.index, y=mapframe_preds[ETFs].values, mode = 'markers', name = 'Prediction')\n",
    "    nav = go.Scatter(x=mapframe_preds.index, y=naive[ETFs][mapframe_preds.index].values, mode = 'markers', name = 'Naive')\n",
    "    fake = go.Scatter(x=['10-2019'], y=df[ETFs].values, opacity = 0, name = '<br>Naive Metrics:<br>RMSE: {}<br>R-Squared: {}<br>MAE: {}<br><br>LSTM Metrics:<br>RMSE: {}<br>R-Squared: {}<br>MAE: {}'.format(nav_rmse,nav_mae,nav_r2,rmse,r2,mae))\n",
    "    trace = [true, nav, pred, fake]\n",
    "    layout = dict(title = \"{} Prices\".format(ETFs), xaxis = dict(range = ['2015-1-1','2018-12-31']), yaxis=dict(autorange=True, showgrid=True))\n",
    "    fig = dict(data=trace, layout=layout)\n",
    "    iplot(fig)\n",
    "interact(lstm_plot, ETFs=etf_list)"
   ]
  },
  {
   "cell_type": "code",
   "execution_count": null,
   "metadata": {},
   "outputs": [],
   "source": []
  }
 ],
 "metadata": {
  "extensions": {
   "jupyter_dashboards": {
    "activeView": "report_default",
    "version": 1,
    "views": {
     "grid_default": {
      "name": "grid",
      "type": "grid"
     },
     "report_default": {
      "name": "report",
      "type": "report"
     }
    }
   }
  },
  "kernelspec": {
   "display_name": "Python [conda env:PandaSpace]",
   "language": "python",
   "name": "conda-env-PandaSpace-py"
  },
  "language_info": {
   "codemirror_mode": {
    "name": "ipython",
    "version": 3
   },
   "file_extension": ".py",
   "mimetype": "text/x-python",
   "name": "python",
   "nbconvert_exporter": "python",
   "pygments_lexer": "ipython3",
   "version": "3.6.9"
  }
 },
 "nbformat": 4,
 "nbformat_minor": 2
}
