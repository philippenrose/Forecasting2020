{
 "cells": [
  {
   "cell_type": "code",
   "execution_count": 1,
   "metadata": {},
   "outputs": [],
   "source": [
    "import pandas as pd\n",
    "import numpy as np \n",
    "from sklearn.linear_model import LinearRegression\n",
    "from sklearn.svm import SVR\n",
    "from sklearn.model_selection import train_test_split"
   ]
  },
  {
   "cell_type": "code",
   "execution_count": 2,
   "metadata": {},
   "outputs": [
    {
     "data": {
      "text/html": [
       "<div>\n",
       "<style scoped>\n",
       "    .dataframe tbody tr th:only-of-type {\n",
       "        vertical-align: middle;\n",
       "    }\n",
       "\n",
       "    .dataframe tbody tr th {\n",
       "        vertical-align: top;\n",
       "    }\n",
       "\n",
       "    .dataframe thead th {\n",
       "        text-align: right;\n",
       "    }\n",
       "</style>\n",
       "<table border=\"1\" class=\"dataframe\">\n",
       "  <thead>\n",
       "    <tr style=\"text-align: right;\">\n",
       "      <th></th>\n",
       "      <th>date</th>\n",
       "      <th>open</th>\n",
       "      <th>high</th>\n",
       "      <th>low</th>\n",
       "      <th>close</th>\n",
       "      <th>volume</th>\n",
       "      <th>ticker</th>\n",
       "    </tr>\n",
       "  </thead>\n",
       "  <tbody>\n",
       "    <tr>\n",
       "      <td>0</td>\n",
       "      <td>2015-01-05</td>\n",
       "      <td>204.17</td>\n",
       "      <td>204.37</td>\n",
       "      <td>201.35</td>\n",
       "      <td>201.72</td>\n",
       "      <td>169632646</td>\n",
       "      <td>SPY</td>\n",
       "    </tr>\n",
       "    <tr>\n",
       "      <td>1</td>\n",
       "      <td>2015-01-06</td>\n",
       "      <td>202.09</td>\n",
       "      <td>202.72</td>\n",
       "      <td>198.86</td>\n",
       "      <td>199.82</td>\n",
       "      <td>209151408</td>\n",
       "      <td>SPY</td>\n",
       "    </tr>\n",
       "    <tr>\n",
       "      <td>2</td>\n",
       "      <td>2015-01-07</td>\n",
       "      <td>201.42</td>\n",
       "      <td>202.72</td>\n",
       "      <td>200.88</td>\n",
       "      <td>202.31</td>\n",
       "      <td>125346709</td>\n",
       "      <td>SPY</td>\n",
       "    </tr>\n",
       "    <tr>\n",
       "      <td>3</td>\n",
       "      <td>2015-01-08</td>\n",
       "      <td>204.01</td>\n",
       "      <td>206.16</td>\n",
       "      <td>203.99</td>\n",
       "      <td>205.90</td>\n",
       "      <td>147217784</td>\n",
       "      <td>SPY</td>\n",
       "    </tr>\n",
       "    <tr>\n",
       "      <td>4</td>\n",
       "      <td>2015-01-09</td>\n",
       "      <td>206.40</td>\n",
       "      <td>206.42</td>\n",
       "      <td>203.51</td>\n",
       "      <td>204.25</td>\n",
       "      <td>158567288</td>\n",
       "      <td>SPY</td>\n",
       "    </tr>\n",
       "    <tr>\n",
       "      <td>...</td>\n",
       "      <td>...</td>\n",
       "      <td>...</td>\n",
       "      <td>...</td>\n",
       "      <td>...</td>\n",
       "      <td>...</td>\n",
       "      <td>...</td>\n",
       "      <td>...</td>\n",
       "    </tr>\n",
       "    <tr>\n",
       "      <td>125695</td>\n",
       "      <td>2019-12-24</td>\n",
       "      <td>22.82</td>\n",
       "      <td>22.82</td>\n",
       "      <td>22.77</td>\n",
       "      <td>22.78</td>\n",
       "      <td>2633089</td>\n",
       "      <td>BKLN</td>\n",
       "    </tr>\n",
       "    <tr>\n",
       "      <td>125696</td>\n",
       "      <td>2019-12-26</td>\n",
       "      <td>22.79</td>\n",
       "      <td>22.81</td>\n",
       "      <td>22.79</td>\n",
       "      <td>22.79</td>\n",
       "      <td>2999603</td>\n",
       "      <td>BKLN</td>\n",
       "    </tr>\n",
       "    <tr>\n",
       "      <td>125697</td>\n",
       "      <td>2019-12-27</td>\n",
       "      <td>22.79</td>\n",
       "      <td>22.80</td>\n",
       "      <td>22.78</td>\n",
       "      <td>22.79</td>\n",
       "      <td>2654723</td>\n",
       "      <td>BKLN</td>\n",
       "    </tr>\n",
       "    <tr>\n",
       "      <td>125698</td>\n",
       "      <td>2019-12-30</td>\n",
       "      <td>22.80</td>\n",
       "      <td>22.81</td>\n",
       "      <td>22.71</td>\n",
       "      <td>22.71</td>\n",
       "      <td>3697412</td>\n",
       "      <td>BKLN</td>\n",
       "    </tr>\n",
       "    <tr>\n",
       "      <td>125699</td>\n",
       "      <td>2019-12-31</td>\n",
       "      <td>22.78</td>\n",
       "      <td>22.82</td>\n",
       "      <td>22.78</td>\n",
       "      <td>22.82</td>\n",
       "      <td>3563469</td>\n",
       "      <td>BKLN</td>\n",
       "    </tr>\n",
       "  </tbody>\n",
       "</table>\n",
       "<p>125700 rows × 7 columns</p>\n",
       "</div>"
      ],
      "text/plain": [
       "              date    open    high     low   close     volume ticker\n",
       "0       2015-01-05  204.17  204.37  201.35  201.72  169632646    SPY\n",
       "1       2015-01-06  202.09  202.72  198.86  199.82  209151408    SPY\n",
       "2       2015-01-07  201.42  202.72  200.88  202.31  125346709    SPY\n",
       "3       2015-01-08  204.01  206.16  203.99  205.90  147217784    SPY\n",
       "4       2015-01-09  206.40  206.42  203.51  204.25  158567288    SPY\n",
       "...            ...     ...     ...     ...     ...        ...    ...\n",
       "125695  2019-12-24   22.82   22.82   22.77   22.78    2633089   BKLN\n",
       "125696  2019-12-26   22.79   22.81   22.79   22.79    2999603   BKLN\n",
       "125697  2019-12-27   22.79   22.80   22.78   22.79    2654723   BKLN\n",
       "125698  2019-12-30   22.80   22.81   22.71   22.71    3697412   BKLN\n",
       "125699  2019-12-31   22.78   22.82   22.78   22.82    3563469   BKLN\n",
       "\n",
       "[125700 rows x 7 columns]"
      ]
     },
     "execution_count": 2,
     "metadata": {},
     "output_type": "execute_result"
    }
   ],
   "source": [
    "data1 = pd.read_csv('../stats_100_etfs.csv')\n",
    "data = pd.read_csv('../hun_etfs.csv')\n",
    "data"
   ]
  },
  {
   "cell_type": "code",
   "execution_count": 5,
   "metadata": {},
   "outputs": [
    {
     "data": {
      "text/html": [
       "<div>\n",
       "<style scoped>\n",
       "    .dataframe tbody tr th:only-of-type {\n",
       "        vertical-align: middle;\n",
       "    }\n",
       "\n",
       "    .dataframe tbody tr th {\n",
       "        vertical-align: top;\n",
       "    }\n",
       "\n",
       "    .dataframe thead th {\n",
       "        text-align: right;\n",
       "    }\n",
       "</style>\n",
       "<table border=\"1\" class=\"dataframe\">\n",
       "  <thead>\n",
       "    <tr style=\"text-align: right;\">\n",
       "      <th></th>\n",
       "      <th>open</th>\n",
       "      <th>high</th>\n",
       "      <th>low</th>\n",
       "      <th>close</th>\n",
       "      <th>volume</th>\n",
       "      <th>ticker</th>\n",
       "    </tr>\n",
       "    <tr>\n",
       "      <th>date</th>\n",
       "      <th></th>\n",
       "      <th></th>\n",
       "      <th></th>\n",
       "      <th></th>\n",
       "      <th></th>\n",
       "      <th></th>\n",
       "    </tr>\n",
       "  </thead>\n",
       "  <tbody>\n",
       "    <tr>\n",
       "      <td>2015-01-05</td>\n",
       "      <td>204.17</td>\n",
       "      <td>204.37</td>\n",
       "      <td>201.35</td>\n",
       "      <td>201.72</td>\n",
       "      <td>169632646</td>\n",
       "      <td>SPY</td>\n",
       "    </tr>\n",
       "    <tr>\n",
       "      <td>2015-01-06</td>\n",
       "      <td>202.09</td>\n",
       "      <td>202.72</td>\n",
       "      <td>198.86</td>\n",
       "      <td>199.82</td>\n",
       "      <td>209151408</td>\n",
       "      <td>SPY</td>\n",
       "    </tr>\n",
       "    <tr>\n",
       "      <td>2015-01-07</td>\n",
       "      <td>201.42</td>\n",
       "      <td>202.72</td>\n",
       "      <td>200.88</td>\n",
       "      <td>202.31</td>\n",
       "      <td>125346709</td>\n",
       "      <td>SPY</td>\n",
       "    </tr>\n",
       "    <tr>\n",
       "      <td>2015-01-08</td>\n",
       "      <td>204.01</td>\n",
       "      <td>206.16</td>\n",
       "      <td>203.99</td>\n",
       "      <td>205.90</td>\n",
       "      <td>147217784</td>\n",
       "      <td>SPY</td>\n",
       "    </tr>\n",
       "    <tr>\n",
       "      <td>2015-01-09</td>\n",
       "      <td>206.40</td>\n",
       "      <td>206.42</td>\n",
       "      <td>203.51</td>\n",
       "      <td>204.25</td>\n",
       "      <td>158567288</td>\n",
       "      <td>SPY</td>\n",
       "    </tr>\n",
       "    <tr>\n",
       "      <td>...</td>\n",
       "      <td>...</td>\n",
       "      <td>...</td>\n",
       "      <td>...</td>\n",
       "      <td>...</td>\n",
       "      <td>...</td>\n",
       "      <td>...</td>\n",
       "    </tr>\n",
       "    <tr>\n",
       "      <td>2019-12-24</td>\n",
       "      <td>321.47</td>\n",
       "      <td>321.52</td>\n",
       "      <td>320.90</td>\n",
       "      <td>321.23</td>\n",
       "      <td>20270007</td>\n",
       "      <td>SPY</td>\n",
       "    </tr>\n",
       "    <tr>\n",
       "      <td>2019-12-26</td>\n",
       "      <td>321.65</td>\n",
       "      <td>322.95</td>\n",
       "      <td>321.64</td>\n",
       "      <td>322.94</td>\n",
       "      <td>31024188</td>\n",
       "      <td>SPY</td>\n",
       "    </tr>\n",
       "    <tr>\n",
       "      <td>2019-12-27</td>\n",
       "      <td>323.74</td>\n",
       "      <td>323.80</td>\n",
       "      <td>322.28</td>\n",
       "      <td>322.86</td>\n",
       "      <td>42554820</td>\n",
       "      <td>SPY</td>\n",
       "    </tr>\n",
       "    <tr>\n",
       "      <td>2019-12-30</td>\n",
       "      <td>322.95</td>\n",
       "      <td>323.10</td>\n",
       "      <td>320.55</td>\n",
       "      <td>321.08</td>\n",
       "      <td>49782730</td>\n",
       "      <td>SPY</td>\n",
       "    </tr>\n",
       "    <tr>\n",
       "      <td>2019-12-31</td>\n",
       "      <td>320.53</td>\n",
       "      <td>322.13</td>\n",
       "      <td>320.15</td>\n",
       "      <td>321.86</td>\n",
       "      <td>57106998</td>\n",
       "      <td>SPY</td>\n",
       "    </tr>\n",
       "  </tbody>\n",
       "</table>\n",
       "<p>1257 rows × 6 columns</p>\n",
       "</div>"
      ],
      "text/plain": [
       "              open    high     low   close     volume ticker\n",
       "date                                                        \n",
       "2015-01-05  204.17  204.37  201.35  201.72  169632646    SPY\n",
       "2015-01-06  202.09  202.72  198.86  199.82  209151408    SPY\n",
       "2015-01-07  201.42  202.72  200.88  202.31  125346709    SPY\n",
       "2015-01-08  204.01  206.16  203.99  205.90  147217784    SPY\n",
       "2015-01-09  206.40  206.42  203.51  204.25  158567288    SPY\n",
       "...            ...     ...     ...     ...        ...    ...\n",
       "2019-12-24  321.47  321.52  320.90  321.23   20270007    SPY\n",
       "2019-12-26  321.65  322.95  321.64  322.94   31024188    SPY\n",
       "2019-12-27  323.74  323.80  322.28  322.86   42554820    SPY\n",
       "2019-12-30  322.95  323.10  320.55  321.08   49782730    SPY\n",
       "2019-12-31  320.53  322.13  320.15  321.86   57106998    SPY\n",
       "\n",
       "[1257 rows x 6 columns]"
      ]
     },
     "execution_count": 5,
     "metadata": {},
     "output_type": "execute_result"
    }
   ],
   "source": [
    "df = data.loc[data['ticker'] == 'SPY']\n",
    "df = df.set_index('date')\n",
    "df"
   ]
  },
  {
   "cell_type": "code",
   "execution_count": 7,
   "metadata": {},
   "outputs": [
    {
     "name": "stdout",
     "output_type": "stream",
     "text": [
      "             close\n",
      "date              \n",
      "2015-01-05  201.72\n",
      "2015-01-06  199.82\n",
      "2015-01-07  202.31\n",
      "2015-01-08  205.90\n",
      "2015-01-09  204.25\n"
     ]
    }
   ],
   "source": [
    "df = df[['close']]\n",
    "#Take a look at the new data\n",
    "print(df.head())"
   ]
  },
  {
   "cell_type": "code",
   "execution_count": 20,
   "metadata": {},
   "outputs": [
    {
     "name": "stderr",
     "output_type": "stream",
     "text": [
      "C:\\Users\\jayar\\anaconda\\Anaconda3\\envs\\PandaSpace\\lib\\site-packages\\ipykernel_launcher.py:4: SettingWithCopyWarning: \n",
      "A value is trying to be set on a copy of a slice from a DataFrame.\n",
      "Try using .loc[row_indexer,col_indexer] = value instead\n",
      "\n",
      "See the caveats in the documentation: http://pandas.pydata.org/pandas-docs/stable/user_guide/indexing.html#returning-a-view-versus-a-copy\n",
      "  after removing the cwd from sys.path.\n"
     ]
    },
    {
     "data": {
      "text/html": [
       "<div>\n",
       "<style scoped>\n",
       "    .dataframe tbody tr th:only-of-type {\n",
       "        vertical-align: middle;\n",
       "    }\n",
       "\n",
       "    .dataframe tbody tr th {\n",
       "        vertical-align: top;\n",
       "    }\n",
       "\n",
       "    .dataframe thead th {\n",
       "        text-align: right;\n",
       "    }\n",
       "</style>\n",
       "<table border=\"1\" class=\"dataframe\">\n",
       "  <thead>\n",
       "    <tr style=\"text-align: right;\">\n",
       "      <th></th>\n",
       "      <th>close</th>\n",
       "      <th>Prediction</th>\n",
       "    </tr>\n",
       "    <tr>\n",
       "      <th>date</th>\n",
       "      <th></th>\n",
       "      <th></th>\n",
       "    </tr>\n",
       "  </thead>\n",
       "  <tbody>\n",
       "    <tr>\n",
       "      <td>2015-01-05</td>\n",
       "      <td>201.72</td>\n",
       "      <td>210.13</td>\n",
       "    </tr>\n",
       "    <tr>\n",
       "      <td>2015-01-06</td>\n",
       "      <td>199.82</td>\n",
       "      <td>209.98</td>\n",
       "    </tr>\n",
       "    <tr>\n",
       "      <td>2015-01-07</td>\n",
       "      <td>202.31</td>\n",
       "      <td>211.24</td>\n",
       "    </tr>\n",
       "    <tr>\n",
       "      <td>2015-01-08</td>\n",
       "      <td>205.90</td>\n",
       "      <td>211.21</td>\n",
       "    </tr>\n",
       "    <tr>\n",
       "      <td>2015-01-09</td>\n",
       "      <td>204.25</td>\n",
       "      <td>211.81</td>\n",
       "    </tr>\n",
       "    <tr>\n",
       "      <td>...</td>\n",
       "      <td>...</td>\n",
       "      <td>...</td>\n",
       "    </tr>\n",
       "    <tr>\n",
       "      <td>2019-12-24</td>\n",
       "      <td>321.23</td>\n",
       "      <td>NaN</td>\n",
       "    </tr>\n",
       "    <tr>\n",
       "      <td>2019-12-26</td>\n",
       "      <td>322.94</td>\n",
       "      <td>NaN</td>\n",
       "    </tr>\n",
       "    <tr>\n",
       "      <td>2019-12-27</td>\n",
       "      <td>322.86</td>\n",
       "      <td>NaN</td>\n",
       "    </tr>\n",
       "    <tr>\n",
       "      <td>2019-12-30</td>\n",
       "      <td>321.08</td>\n",
       "      <td>NaN</td>\n",
       "    </tr>\n",
       "    <tr>\n",
       "      <td>2019-12-31</td>\n",
       "      <td>321.86</td>\n",
       "      <td>NaN</td>\n",
       "    </tr>\n",
       "  </tbody>\n",
       "</table>\n",
       "<p>1257 rows × 2 columns</p>\n",
       "</div>"
      ],
      "text/plain": [
       "             close  Prediction\n",
       "date                          \n",
       "2015-01-05  201.72      210.13\n",
       "2015-01-06  199.82      209.98\n",
       "2015-01-07  202.31      211.24\n",
       "2015-01-08  205.90      211.21\n",
       "2015-01-09  204.25      211.81\n",
       "...            ...         ...\n",
       "2019-12-24  321.23         NaN\n",
       "2019-12-26  322.94         NaN\n",
       "2019-12-27  322.86         NaN\n",
       "2019-12-30  321.08         NaN\n",
       "2019-12-31  321.86         NaN\n",
       "\n",
       "[1257 rows x 2 columns]"
      ]
     },
     "execution_count": 20,
     "metadata": {},
     "output_type": "execute_result"
    }
   ],
   "source": [
    "# A variable for predicting 'n' days out into the future\n",
    "forecast_out = 30 #'n=30' days\n",
    "#Create another column (the target or dependent variable) shifted 'n' units up\n",
    "df['Prediction'] = df[['close']].shift(-forecast_out)\n",
    "#print the new data set\n",
    "df"
   ]
  },
  {
   "cell_type": "code",
   "execution_count": 9,
   "metadata": {},
   "outputs": [
    {
     "name": "stdout",
     "output_type": "stream",
     "text": [
      "[[201.72]\n",
      " [199.82]\n",
      " [202.31]\n",
      " ...\n",
      " [309.1 ]\n",
      " [309.55]\n",
      " [311.79]]\n"
     ]
    }
   ],
   "source": [
    "### Create the independent data set (X)  #######\n",
    "# Convert the dataframe to a numpy array\n",
    "X = np.array(df.drop(['Prediction'],1))\n",
    "\n",
    "#Remove the last 'n' rows\n",
    "X = X[:-forecast_out]\n",
    "print(X)"
   ]
  },
  {
   "cell_type": "code",
   "execution_count": 11,
   "metadata": {},
   "outputs": [
    {
     "name": "stdout",
     "output_type": "stream",
     "text": [
      "[210.13 209.98 211.24 ... 322.86 321.08 321.86]\n"
     ]
    }
   ],
   "source": [
    "### Create the dependent data set (y)  #####\n",
    "# Convert the dataframe to a numpy array (All of the values including the NaN's)\n",
    "y = np.array(df['Prediction'])\n",
    "# Get all of the y values except the last 'n' rows\n",
    "y = y[:-forecast_out]\n",
    "print(y)"
   ]
  },
  {
   "cell_type": "code",
   "execution_count": 13,
   "metadata": {},
   "outputs": [],
   "source": [
    "# Split the data into 80% training and 20% testing\n",
    "x_train, x_test, y_train, y_test = train_test_split(X, y, test_size=0.05)"
   ]
  },
  {
   "cell_type": "code",
   "execution_count": 14,
   "metadata": {},
   "outputs": [
    {
     "data": {
      "text/plain": [
       "SVR(C=1000.0, cache_size=200, coef0=0.0, degree=3, epsilon=0.1, gamma=0.1,\n",
       "    kernel='rbf', max_iter=-1, shrinking=True, tol=0.001, verbose=False)"
      ]
     },
     "execution_count": 14,
     "metadata": {},
     "output_type": "execute_result"
    }
   ],
   "source": [
    "# Create and train the Support Vector Machine (Regressor)\n",
    "svr_rbf = SVR(kernel='rbf', C=1e3, gamma=0.1)\n",
    "svr_rbf.fit(x_train, y_train)"
   ]
  },
  {
   "cell_type": "code",
   "execution_count": 15,
   "metadata": {},
   "outputs": [
    {
     "name": "stdout",
     "output_type": "stream",
     "text": [
      "svm confidence:  0.9580259094792138\n"
     ]
    }
   ],
   "source": [
    "# Testing Model: Score returns the coefficient of determination R^2 of the prediction. \n",
    "# The best possible score is 1.0\n",
    "svm_confidence = svr_rbf.score(x_test, y_test)\n",
    "print(\"svm confidence: \", svm_confidence)"
   ]
  },
  {
   "cell_type": "code",
   "execution_count": 16,
   "metadata": {},
   "outputs": [
    {
     "data": {
      "text/plain": [
       "LinearRegression(copy_X=True, fit_intercept=True, n_jobs=None, normalize=False)"
      ]
     },
     "execution_count": 16,
     "metadata": {},
     "output_type": "execute_result"
    }
   ],
   "source": [
    "# Create and train the Linear Regression  Model\n",
    "lr = LinearRegression()\n",
    "# Train the model\n",
    "lr.fit(x_train, y_train)"
   ]
  },
  {
   "cell_type": "code",
   "execution_count": 17,
   "metadata": {},
   "outputs": [
    {
     "name": "stdout",
     "output_type": "stream",
     "text": [
      "lr confidence:  0.9469915084098509\n"
     ]
    }
   ],
   "source": [
    "# Testing Model: Score returns the coefficient of determination R^2 of the prediction. \n",
    "# The best possible score is 1.0\n",
    "lr_confidence = lr.score(x_test, y_test)\n",
    "print(\"lr confidence: \", lr_confidence)"
   ]
  },
  {
   "cell_type": "code",
   "execution_count": 18,
   "metadata": {},
   "outputs": [
    {
     "name": "stdout",
     "output_type": "stream",
     "text": [
      "[[312.02]\n",
      " [311.93]\n",
      " [310.77]\n",
      " [310.27]\n",
      " [310.96]\n",
      " [313.37]\n",
      " [314.08]\n",
      " [315.48]\n",
      " [314.31]\n",
      " [311.64]\n",
      " [309.55]\n",
      " [311.46]\n",
      " [312.02]\n",
      " [314.87]\n",
      " [313.88]\n",
      " [313.53]\n",
      " [314.42]\n",
      " [317.13]\n",
      " [317.32]\n",
      " [319.5 ]\n",
      " [319.57]\n",
      " [319.59]\n",
      " [320.9 ]\n",
      " [320.73]\n",
      " [321.22]\n",
      " [321.23]\n",
      " [322.94]\n",
      " [322.86]\n",
      " [321.08]\n",
      " [321.86]]\n"
     ]
    }
   ],
   "source": [
    "# Set x_forecast equal to the last 30 rows of the original data set from Adj. Close column\n",
    "x_forecast = np.array(df.drop(['Prediction'],1))[-forecast_out:]\n",
    "print(x_forecast)"
   ]
  },
  {
   "cell_type": "code",
   "execution_count": 19,
   "metadata": {},
   "outputs": [
    {
     "name": "stdout",
     "output_type": "stream",
     "text": [
      "[314.56684121 314.477081   313.32017164 312.82150382 313.50966542\n",
      " 315.91324433 316.62135264 318.01762255 316.85073984 314.18785366\n",
      " 312.10342215 314.00833324 314.56684121 317.40924781 316.42188551\n",
      " 316.07281804 316.96044676 319.66322637 319.85272015 322.02691186\n",
      " 322.09672536 322.11667207 323.42318177 323.25363471 323.74232918\n",
      " 323.75230254 325.4577465  325.37795965 323.60270219 324.380624  ]\n",
      "[321.59302984 321.68679655 321.11991891 320.95562057 321.26178248\n",
      " 313.1776521  302.84098664 278.45142122 298.89724446 321.75775217\n",
      " 321.17956406 321.67550671 321.59302984 288.86947866 306.08107052\n",
      " 311.15988549 296.95376246 260.02879549 258.903659   254.00524179\n",
      " 253.97307959 253.96444981 253.71803819 253.72910454 253.70418113\n",
      " 253.70386017 253.68738645 253.68748565 253.70931809 253.69188569]\n"
     ]
    }
   ],
   "source": [
    "# Print linear regression model predictions for the next 'n' days\n",
    "lr_prediction = lr.predict(x_forecast)\n",
    "print(lr_prediction)\n",
    "\n",
    "# Print support vector regressor model predictions for the next 'n' days\n",
    "svm_prediction = svr_rbf.predict(x_forecast)\n",
    "print(svm_prediction)"
   ]
  },
  {
   "cell_type": "code",
   "execution_count": null,
   "metadata": {},
   "outputs": [],
   "source": []
  }
 ],
 "metadata": {
  "kernelspec": {
   "display_name": "Python [conda env:PandaSpace]",
   "language": "python",
   "name": "conda-env-PandaSpace-py"
  },
  "language_info": {
   "codemirror_mode": {
    "name": "ipython",
    "version": 3
   },
   "file_extension": ".py",
   "mimetype": "text/x-python",
   "name": "python",
   "nbconvert_exporter": "python",
   "pygments_lexer": "ipython3",
   "version": "3.6.9"
  }
 },
 "nbformat": 4,
 "nbformat_minor": 2
}
